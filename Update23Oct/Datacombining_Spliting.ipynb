{
 "cells": [
  {
   "cell_type": "code",
   "execution_count": 1,
   "id": "08a47670-6ecd-4302-9717-4eafd38be2a3",
   "metadata": {},
   "outputs": [],
   "source": [
    "import pandas as pd\n",
    "from sklearn.model_selection import StratifiedKFold, cross_val_predict\n",
    "from sklearn.linear_model import Lasso\n",
    "from sklearn.ensemble import GradientBoostingClassifier, RandomForestClassifier\n",
    "from sklearn.feature_selection import SelectFromModel, VarianceThreshold\n",
    "from sklearn.preprocessing import StandardScaler\n",
    "from sklearn.pipeline import Pipeline\n",
    "from sklearn.metrics import roc_auc_score, f1_score\n",
    "from lifelines.utils import concordance_index  # For c-index\n",
    "from sklearn.model_selection import StratifiedKFold, KFold\n",
    "from sklearn.model_selection import train_test_split"
   ]
  },
  {
   "cell_type": "code",
   "execution_count": 3,
   "id": "9e94668f-ee97-4837-9da4-a04245812b06",
   "metadata": {},
   "outputs": [],
   "source": [
    "file_path = 'E:/HTWD/pyradiomics_train_data-Copy.csv'\n",
    "file_path_test = 'E:/HTWD/test_data_greyvalues_pyradiomics.csv'"
   ]
  },
  {
   "cell_type": "code",
   "execution_count": 5,
   "id": "d6932195-992b-454e-b1ee-63825fff1ec6",
   "metadata": {},
   "outputs": [],
   "source": [
    "df = pd.read_csv('E:/HTWD/pyradiomics_train_data-Copy.csv')\n",
    "# Load test data\n",
    "df_test = pd.read_csv('E:/HTWD/test_data_greyvalues_pyradiomics.csv')\n",
    "# Combine the two datasets by stacking them vertically\n",
    "df_combined = pd.concat([df, df_test], ignore_index=True)"
   ]
  },
  {
   "cell_type": "code",
   "execution_count": 6,
   "id": "8443341b-2a02-42e9-9eab-551f77131e01",
   "metadata": {},
   "outputs": [],
   "source": [
    "df_combined.to_csv(\"E:/HTWD/df_combined.csv\")"
   ]
  },
  {
   "cell_type": "code",
   "execution_count": 9,
   "id": "059f1507-f39e-4d98-a60b-b8485850fa7f",
   "metadata": {},
   "outputs": [
    {
     "name": "stdout",
     "output_type": "stream",
     "text": [
      "Split 1: Train and test datasets saved.\n",
      "Split 2: Train and test datasets saved.\n",
      "Split 3: Train and test datasets saved.\n",
      "Split 4: Train and test datasets saved.\n",
      "Split 5: Train and test datasets saved.\n"
     ]
    }
   ],
   "source": [
    "\n",
    "# Define the proportion for splitting (e.g., 80% training, 20% testing)\n",
    "test_size = 0.4\n",
    "\n",
    "# Get the unique wells (experiments) from the dataset\n",
    "wells = df_combined['well'].unique()\n",
    "\n",
    "# Perform the splitting 5 times and save to CSV\n",
    "for i in range(1, 6):\n",
    "    # Split the wells into training and test sets, ensuring the split is based on wells, not individual rows\n",
    "    wells_train, wells_test = train_test_split(wells, test_size=test_size, random_state=i)\n",
    "    \n",
    "    # Select all rows where 'well' is in the training wells\n",
    "    df_train = df_combined[df_combined['well'].isin(wells_train)]\n",
    "    df_test = df_combined[df_combined['well'].isin(wells_test)]\n",
    "    \n",
    "    # Save the splits as CSV files\n",
    "    df_train.to_csv(f'E:/HTWD/train_split_{i}.csv', index=False)\n",
    "    df_test.to_csv(f'E:/HTWD/test_split_{i}.csv', index=False)\n",
    "\n",
    "    print(f'Split {i}: Train and test datasets saved.')"
   ]
  },
  {
   "cell_type": "code",
   "execution_count": 11,
   "id": "848e7333-4a7d-4f48-b5bb-4ce6e48b5e3d",
   "metadata": {},
   "outputs": [
    {
     "name": "stdout",
     "output_type": "stream",
     "text": [
      "Data loaded and filtered successfully.\n"
     ]
    }
   ],
   "source": [
    "file_path1 = 'E:/HTWD/train_split_1.csv'\n",
    "file_path_test1 = 'E:/HTWD/test_split_1.csv'\n",
    "\n",
    "days_of_interest = [0, 3, 5, 7, 10, 12, 14]\n",
    "\n",
    "# Function to load and filter the data\n",
    "def load_and_filter_data(file_path, days):\n",
    "    try:\n",
    "        # Read the CSV file\n",
    "        df = pd.read_csv(file_path)\n",
    "        \n",
    "        # Filter the dataframe based on days\n",
    "        df_filtered = df[df['day'].isin(days)]\n",
    "        \n",
    "        return df_filtered\n",
    "    except FileNotFoundError:\n",
    "        print(f\"Error: The file {file_path} was not found.\")\n",
    "        return None\n",
    "    except pd.errors.EmptyDataError:\n",
    "        print(f\"Error: The file {file_path} is empty.\")\n",
    "        return None\n",
    "    except Exception as e:\n",
    "        print(f\"An error occurred: {e}\")\n",
    "        return None\n",
    "\n",
    "# Load and filter training data\n",
    "df = load_and_filter_data(file_path1, days_of_interest)\n",
    "\n",
    "# Load and filter test data\n",
    "df_test = load_and_filter_data(file_path_test1, days_of_interest)\n",
    "\n",
    "# Check if the dataframes were loaded successfully before proceeding\n",
    "if df is not None and df_test is not None:\n",
    "    # Continue with further data processing or analysis\n",
    "    print(\"Data loaded and filtered successfully.\")\n",
    "else:\n",
    "    print(\"Data loading failed. Please check the error messages above.\")"
   ]
  },
  {
   "cell_type": "code",
   "execution_count": 13,
   "id": "2e5622c3-bbed-42cc-b786-b2c9de5e62fa",
   "metadata": {},
   "outputs": [],
   "source": [
    "# Function to pivot and prepare the dataset\n",
    "def pivot_and_prepare_data(df):\n",
    "    df_pivot = df.pivot_table(index='well', columns='day', values=[col for col in df.columns if col not in ['well', 'day', 'diagnosis']])\n",
    "    df_pivot.columns = [f'{feat}_day{day}' for feat, day in df_pivot.columns]\n",
    "    df_final = pd.merge(df_pivot, df[['well', 'diagnosis']].drop_duplicates(), on='well')\n",
    "    X = df_final.drop(columns=['diagnosis', 'well'])\n",
    "    y = df_final['diagnosis'].map({'relapsed': 1, 'controlled': 0})\n",
    "    return X, y\n",
    "X, y = pivot_and_prepare_data(df)\n",
    "# Now split the pivoted dataset into training and validation sets\n",
    "X_train, X_val, y_train, y_val = train_test_split(X, y, test_size=0.2, stratify=y, random_state=42)\n",
    "# Prepare the external test set (same pivoting process as train/val set)\n",
    "X_test, y_test = pivot_and_prepare_data(df_test)"
   ]
  },
  {
   "cell_type": "code",
   "execution_count": 37,
   "id": "c1c8ea06-1c55-479d-99e8-18dd159194bc",
   "metadata": {},
   "outputs": [
    {
     "name": "stdout",
     "output_type": "stream",
     "text": [
      "Using feature selector: Lasso\n",
      "Cross-validating for day 0...\n",
      "Fitting and predicting on test set for day 0...\n",
      "Validating on validation set for day 0...\n",
      "Cross-validating for day 3...\n",
      "Fitting and predicting on test set for day 3...\n",
      "Validating on validation set for day 3...\n",
      "Cross-validating for day 5...\n",
      "Fitting and predicting on test set for day 5...\n",
      "Validating on validation set for day 5...\n",
      "Cross-validating for day 7...\n",
      "Fitting and predicting on test set for day 7...\n",
      "Validating on validation set for day 7...\n",
      "Cross-validating for day 10...\n",
      "Fitting and predicting on test set for day 10...\n",
      "Validating on validation set for day 10...\n",
      "Cross-validating for day 12...\n",
      "Fitting and predicting on test set for day 12...\n",
      "Validating on validation set for day 12...\n",
      "Cross-validating for day 14...\n",
      "Fitting and predicting on test set for day 14...\n",
      "Validating on validation set for day 14...\n"
     ]
    }
   ],
   "source": [
    "# Define the feature selectors and models\n",
    "feature_selectors = {\n",
    "    'Lasso': SelectFromModel(Lasso(alpha=0.01, random_state=42))\n",
    "}\n",
    "\n",
    "models = {\n",
    "    'Gradient Boosting': GradientBoostingClassifier(random_state=42)\n",
    "}\n",
    "\n",
    "# Days of interest\n",
    "days = [0, 3, 5, 7, 10, 12, 14]\n",
    "\n",
    "# Initialize dictionaries to store metrics across days\n",
    "metrics_by_day_train = {}\n",
    "metrics_by_day_test = {}\n",
    "metrics_by_day_val = {}\n",
    "kf = KFold(n_splits=5, shuffle=True, random_state=42)\n",
    "# Loop over feature selectors and models\n",
    "for fs_name, selector in feature_selectors.items():\n",
    "    print(f\"Using feature selector: {fs_name}\")\n",
    "    for model_name, model in models.items():\n",
    "        # Create a combined key for feature selector and model\n",
    "        key = f\"{fs_name} + {model_name}\"\n",
    "\n",
    "        # Initialize lists to store metrics across days for each feature selector + model combination\n",
    "        metrics_by_day_train[key] = {'roc_auc': [], 'c_index': [], 'f1_score': []}\n",
    "        metrics_by_day_test[key] = {'roc_auc': [], 'c_index': [], 'f1_score': []}\n",
    "        metrics_by_day_val[key] = {'roc_auc': [], 'c_index': [], 'f1_score': []}\n",
    "\n",
    "        for day_idx, day in enumerate(days):\n",
    "            # Aggregate features up to the current day\n",
    "            days_up_to_current = days[:day_idx+1]\n",
    "            X_train_day = X_train.loc[:, [col for col in X_train.columns if any(f'_day{d}' in col for d in days_up_to_current)]]\n",
    "            X_test_day = X_test.loc[:, [col for col in X_test.columns if any(f'_day{d}' in col for d in days_up_to_current)]]\n",
    "            X_val_day = X_val.loc[:, [col for col in X_val.columns if any(f'_day{d}' in col for d in days_up_to_current)]]\n",
    "\n",
    "            # Skip if no features are available for the current day\n",
    "            if X_train_day.shape[1] == 0 or X_test_day.shape[1] == 0 or X_val_day.shape[1] == 0:\n",
    "                print(f\"Skipping day {day} because no features are available.\")\n",
    "                continue\n",
    "\n",
    "            # Create a pipeline with variance filtering, scaling, and the feature selector\n",
    "            pipeline = Pipeline(steps=[\n",
    "                ('variance_filter', VarianceThreshold(threshold=1e-5)),\n",
    "                ('scaler', StandardScaler()),  \n",
    "                ('feature_selection', selector),\n",
    "                ('model', model)\n",
    "            ])\n",
    "\n",
    "            # Perform cross-validation on the training set\n",
    "            print(f\"Cross-validating for day {day}...\")\n",
    "            y_pred_prob_cv = cross_val_predict(pipeline, X_train_day, y_train, cv=kf, method='predict_proba')[:, 1]\n",
    "            auc_train = roc_auc_score(y_train, y_pred_prob_cv)\n",
    "            c_index_train = concordance_index(y_train, y_pred_prob_cv)\n",
    "            f1_train = f1_score(y_train, (y_pred_prob_cv > 0.5).astype(int))\n",
    "\n",
    "            # Store metrics for training set\n",
    "            metrics_by_day_train[key]['roc_auc'].append(auc_train)\n",
    "            metrics_by_day_train[key]['c_index'].append(c_index_train)\n",
    "            metrics_by_day_train[key]['f1_score'].append(f1_train)\n",
    "\n",
    "            # Fit the pipeline on the entire training set and predict on the test set\n",
    "            print(f\"Fitting and predicting on test set for day {day}...\")\n",
    "            pipeline.fit(X_train_day, y_train)\n",
    "            y_pred_prob_test = pipeline.predict_proba(X_test_day)[:, 1]\n",
    "            auc_test = roc_auc_score(y_test, y_pred_prob_test)\n",
    "            c_index_test = concordance_index(y_test, y_pred_prob_test)\n",
    "            f1_test = f1_score(y_test, (y_pred_prob_test > 0.5).astype(int))\n",
    "\n",
    "            # Store metrics for test set\n",
    "            metrics_by_day_test[key]['roc_auc'].append(auc_test)\n",
    "            metrics_by_day_test[key]['c_index'].append(c_index_test)\n",
    "            metrics_by_day_test[key]['f1_score'].append(f1_test)\n",
    "\n",
    "            # Validate on the external validation set\n",
    "            print(f\"Validating on validation set for day {day}...\")\n",
    "            y_pred_prob_val = pipeline.predict_proba(X_val_day)[:, 1]\n",
    "            auc_val = roc_auc_score(y_val, y_pred_prob_val)\n",
    "            c_index_val = concordance_index(y_val, y_pred_prob_val)\n",
    "            f1_val = f1_score(y_val, (y_pred_prob_val > 0.5).astype(int))\n",
    "\n",
    "            # Store metrics for validation set\n",
    "            metrics_by_day_val[key]['roc_auc'].append(auc_val)\n",
    "            metrics_by_day_val[key]['c_index'].append(c_index_val)\n",
    "            metrics_by_day_val[key]['f1_score'].append(f1_val)\n",
    "\n",
    "# Convert the ROC-AUC, C-index, and F1-score results across all days to DataFrames\n",
    "metrics_train_df = pd.DataFrame(metrics_by_day_train)\n",
    "metrics_test_df = pd.DataFrame(metrics_by_day_test)\n",
    "metrics_val_df = pd.DataFrame(metrics_by_day_val)\n",
    "\n",
    "# Save the DataFrames to CSV for further analysis\n",
    "#metrics_train_df.to_csv(\"E:/HTWD/metrics_train_all_days.csv\")\n",
    "#metrics_test_df.to_csv(\"E:/HTWD/metrics_test_all_days.csv\")\n",
    "#metrics_val_df.to_csv(\"E:/HTWD/metrics_val_all_days.csv\")"
   ]
  },
  {
   "cell_type": "code",
   "execution_count": 41,
   "id": "ac7ca174-3502-40da-87fe-a7144a9d4a8f",
   "metadata": {},
   "outputs": [
    {
     "data": {
      "image/png": "[encoded data removed]",
      "text/plain": [
       "<Figure size 1400x800 with 1 Axes>"
      ]
     },
     "metadata": {},
     "output_type": "display_data"
    }
   ],
   "source": [
    "import matplotlib.pyplot as plt\n",
    "plt.figure(figsize=(14, 8))\n",
    "for key in metrics_by_day_val.keys():\n",
    "    plt.plot(days, metrics_by_day_val[key]['roc_auc'], label=key)\n",
    "    \n",
    "plt.title('ROC-AUC for Validation Set Across Days')\n",
    "plt.xlabel('Day')\n",
    "plt.ylabel('ROC-AUC')\n",
    "plt.legend(loc='best')\n",
    "plt.grid(True)\n",
    "plt.tight_layout()\n",
    "plt.show()"
   ]
  },
  {
   "cell_type": "code",
   "execution_count": 1,
   "id": "02fdcf59-61c5-4525-8598-599e17d67e98",
   "metadata": {},
   "outputs": [
    {
     "name": "stdout",
     "output_type": "stream",
     "text": [
      "Processing split 1...\n",
      "Using feature selector: Lasso\n",
      "Processing split 2...\n",
      "Using feature selector: Lasso\n",
      "Processing split 3...\n",
      "Using feature selector: Lasso\n",
      "Processing split 4...\n",
      "Using feature selector: Lasso\n",
      "Processing split 5...\n",
      "Using feature selector: Lasso\n"
     ]
    },
    {
     "name": "stderr",
     "output_type": "stream",
     "text": [
      "E:\\Users\\pejma\\anaconda3\\Lib\\site-packages\\sklearn\\linear_model\\_coordinate_descent.py:678: ConvergenceWarning: Objective did not converge. You might want to increase the number of iterations, check the scale of the features or consider increasing regularisation. Duality gap: 1.660e-01, tolerance: 5.838e-02\n",
      "  model = cd_fast.enet_coordinate_descent(\n"
     ]
    }
   ],
   "source": [
    "\n"
   ]
  },
  {
   "cell_type": "code",
   "execution_count": null,
   "id": "9c0bf25f-3e47-4b97-9881-36c07ba0775b",
   "metadata": {},
   "outputs": [],
   "source": []
  }
 ],
 "metadata": {
  "kernelspec": {
   "display_name": "Python 3 (ipykernel)",
   "language": "python",
   "name": "python3"
  },
  "language_info": {
   "codemirror_mode": {
    "name": "ipython",
    "version": 3
   },
   "file_extension": ".py",
   "mimetype": "text/x-python",
   "name": "python",
   "nbconvert_exporter": "python",
   "pygments_lexer": "ipython3",
   "version": "3.12.4"
  }
 },
 "nbformat": 4,
 "nbformat_minor": 5
}
